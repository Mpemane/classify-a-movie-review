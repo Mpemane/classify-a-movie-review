{
 "cells": [
  {
   "cell_type": "markdown",
   "metadata": {
    "colab_type": "text",
    "id": "eHGm8RQlK46m"
   },
   "source": [
    "# Get and explore dataset"
   ]
  },
  {
   "cell_type": "code",
   "execution_count": 1,
   "metadata": {
    "colab": {},
    "colab_type": "code",
    "id": "-erlYw1jXtgh"
   },
   "outputs": [],
   "source": [
    "import matplotlib.pyplot as plt\n",
    "from matplotlib import pyplot\n",
    "import seaborn as sns\n",
    "import numpy as np\n",
    "import re\n",
    "import statistics"
   ]
  },
  {
   "cell_type": "code",
   "execution_count": 2,
   "metadata": {
    "colab": {},
    "colab_type": "code",
    "id": "goZIhX8nII4T"
   },
   "outputs": [],
   "source": [
    "# Make results reproducible - set random seed\n",
    "from numpy.random import seed\n",
    "seed(42)"
   ]
  },
  {
   "cell_type": "code",
   "execution_count": 3,
   "metadata": {
    "colab": {},
    "colab_type": "code",
    "id": "v_fEysQHII4W",
    "tags": []
   },
   "outputs": [],
   "source": [
    "negative_file = \"negative.txt\"\n",
    "positive_file = \"positive.txt\""
   ]
  },
  {
   "cell_type": "code",
   "execution_count": 13,
   "metadata": {
    "colab": {},
    "colab_type": "code",
    "id": "0rWm4yycII4Y",
    "tags": []
   },
   "outputs": [],
   "source": [
    "# Do not modify - helper function to load and preprocess data\n",
    "def filter_words(line):    \n",
    "    line = re.sub(r'[^\\w\\s]','',line.rstrip())\n",
    "    words = line.split(\" \") \n",
    "    words = [i.lower() for i in words if i]      \n",
    "    return \" \".join(words)\n",
    "\n",
    "def load_data(filename):\n",
    "    thefile = open(filename, 'r') \n",
    "    lines = thefile.readlines() \n",
    "\n",
    "    data = []\n",
    "    for l in range(0,len(lines)): \n",
    "        if(lines[l-1].strip() == \"<title>\"): \n",
    "            theline = filter_words(lines[l])\n",
    "            if(len(theline) < 50):\n",
    "                data.append(theline)            \n",
    "            \n",
    "    return data\n",
    "\n",
    "# Helper function to convert categorical data to class label\n",
    "def to_word_label(y):\n",
    "    y = to_class(y)   \n",
    "    return [\"positive\" if i==0 else \"negative\" for i in y]\n",
    "\n",
    "# Helper function to convert class label to numeric label\n",
    "def to_numeric_label(y):\n",
    "  return [0 if i==\"positive\" else 1 for i in word_labels]\n",
    "\n",
    "# Helper function: this function needs to be called before sending arrays to sklearn metrics,\n",
    "# it converts back to class form from categorical form. ie: [1,0] --> 0, [0,1] --> 1\n",
    "def to_class(y):\n",
    "    return np.argmax(y,axis=1) "
   ]
  },
  {
   "cell_type": "code",
   "execution_count": 14,
   "metadata": {
    "colab": {
     "base_uri": "https://localhost:8080/",
     "height": 70
    },
    "colab_type": "code",
    "id": "jjGUiFm9II4b",
    "outputId": "aa5eb89b-85f2-4d61-f33a-b00361b19a41",
    "tags": []
   },
   "outputs": [
    {
     "name": "stdout",
     "output_type": "stream",
     "text": [
      "The first ten positive reviews.\n",
      "\n",
      "['one of the best crichton novels', 'the medicine of the future', 'beautiful', 'for lovers of robicheaux', 'a good book', 'to the point and beautifully illustrated', 'at least somebody has got it', 'beautifully written heartwarming story', 'an excellent cookbook full of delicious recipes', 'an outstanding resource']\n",
      "\n",
      "The first the negative reviews.\n",
      "\n",
      "['horrible book horrible', 'shallow selfindulgence', 'horrible book horrible', 'disappointment', 'a disappointing mess', 'save your money there are better books out there', 'thank you but no thanks', 'unendurable', 'the hard way', 'some good info among the political commercial']\n"
     ]
    }
   ],
   "source": [
    "positive = load_data(positive_file)\n",
    "negative = load_data(negative_file)\n",
    "\n",
    "print(\"The first ten positive reviews.\\n\")\n",
    "print(positive[0:10])\n",
    "print()\n",
    "print(\"The first the negative reviews.\\n\")\n",
    "print(negative[0:10])"
   ]
  },
  {
   "cell_type": "code",
   "execution_count": 15,
   "metadata": {
    "colab": {},
    "colab_type": "code",
    "id": "yrgEYOOCII4d",
    "tags": []
   },
   "outputs": [],
   "source": [
    "# Do not modify - Combines the positive and negative reviews into a single list and create labels\n",
    "data = positive + negative\n",
    "word_labels = [\"positive\"] * len(positive) + [\"negative\"] * len(negative) \n",
    "\n",
    "# Converts labels to numbers in one-hot encoding - [1, 0] (positive) or [0, 1] (negative)\n",
    "from keras.utils import to_categorical\n",
    "labels  = to_categorical(to_numeric_label(word_labels))"
   ]
  },
  {
   "cell_type": "code",
   "execution_count": 31,
   "metadata": {
    "colab": {},
    "colab_type": "code",
    "id": "97Uh2uBpII4l",
    "tags": []
   },
   "outputs": [
    {
     "name": "stdout",
     "output_type": "stream",
     "text": [
      "The means of the reviews 0.486 for the positive reviews and 0.514 for the negative reviews, [0.48633575 0.51366425]\n",
      "The starndard deviation of the dataset is 0.499 for the dataset,[0.49980882 0.49980882]\n",
      "\n"
     ]
    },
    {
     "data": {
      "image/png": "[encoded data removed]",
      "text/plain": [
       "<Figure size 640x480 with 1 Axes>"
      ]
     },
     "metadata": {},
     "output_type": "display_data"
    },
    {
     "name": "stdout",
     "output_type": "stream",
     "text": [
      "Unique words: 2559\n",
      "Mean number of words is 4.34 with standard deviation (2.169676)\n",
      "The total number of reviews is 1793\n",
      "The number of postive reviews is : 872 \n",
      "The number of negative reviews is: 921\n"
     ]
    }
   ],
   "source": [
    "# Write some code to investigate the dataset. \n",
    "# - Calculate and report the mean review size, its standard deviation and create a boxplot.\n",
    "mean = np.mean(labels, axis = 0)\n",
    "stdv = np.std(labels, axis = 0)\n",
    "print(f'The means of the reviews 0.486 for the positive reviews and 0.514 for the negative reviews, {mean}')\n",
    "print(f'The starndard deviation of the dataset is 0.499 for the dataset,{stdv}')\n",
    "print()\n",
    "reviews = [len(x.split()) for x in data]\n",
    "maxlen = round(np.mean(reviews))\n",
    "plt.boxplot(reviews)\n",
    "plt.show()\n",
    "# - Calculate the number of unique words in the dataset\n",
    "text = ' '.join([str(item) for item in data])\n",
    "words = text.split()\n",
    "unique = list(set(words)) \n",
    "print(f'Unique words: {len(unique)}')\n",
    "print(f'Mean number of words is %.2f with standard deviation (%f)' %(np.mean(reviews), np.std(reviews)))\n",
    "\n",
    "# - Perform any other dataset investigation that you feel would be valuable\n",
    "print(f'The total number of reviews is {len(word_labels)}')\n",
    "print(f'The number of postive reviews is : {len(positive)} \\nThe number of negative reviews is: {len(negative)}')"
   ]
  },
  {
   "cell_type": "code",
   "execution_count": 17,
   "metadata": {
    "colab": {
     "base_uri": "https://localhost:8080/",
     "height": 50
    },
    "colab_type": "code",
    "id": "_XXnArgcII4i",
    "outputId": "020b2ee2-4c2a-4bc0-bb55-e2ae3841fe57",
    "tags": []
   },
   "outputs": [
    {
     "name": "stdout",
     "output_type": "stream",
     "text": [
      "['one of the best crichton novels', 'the medicine of the future', 'beautiful', 'for lovers of robicheaux', 'a good book']\n",
      "[[18, 4, 2, 19], [2, 4, 2], [], [6, 4], [1, 12, 3]]\n"
     ]
    }
   ],
   "source": [
    "# Do not modify - Tokenize the vocabulary \n",
    "from keras.preprocessing.text import Tokenizer\n",
    "\n",
    "tokenizer = Tokenizer(num_words=25)\n",
    "\n",
    "tokenizer.fit_on_texts(data) #create the vocabularry\n",
    "\n",
    "tokenized_data = tokenizer.texts_to_sequences(data) #tokenize the data using the vocabulary\n",
    "\n",
    "vocab_size = len(tokenizer.word_index) + 1 \n",
    "\n",
    "# Compare a sample of the data before and after tokenization\n",
    "print(data[0:5])\n",
    "print(tokenized_data[0:5])"
   ]
  },
  {
   "cell_type": "markdown",
   "metadata": {
    "colab_type": "text",
    "id": "_vsMmLjdK1Gf"
   },
   "source": [
    "# Pre-processing"
   ]
  },
  {
   "cell_type": "code",
   "execution_count": 18,
   "metadata": {
    "colab": {},
    "colab_type": "code",
    "id": "24DaXd1zII4q",
    "tags": []
   },
   "outputs": [],
   "source": [
    "import tensorflow as tf\n",
    "from tensorflow import keras\n",
    "# Pre-processing\n",
    "# Write some code to pre-process the data so that each review is the same length\n",
    "tokenized_data = tf.keras.preprocessing.sequence.pad_sequences(tokenized_data, maxlen=4)"
   ]
  },
  {
   "cell_type": "code",
   "execution_count": 19,
   "metadata": {
    "colab": {},
    "colab_type": "code",
    "id": "AFTJcFy6II4s",
    "tags": []
   },
   "outputs": [],
   "source": [
    "# Write some code to split the data into a training and test set. Make sure you shuffle the data. Use 20% for the test set.\n",
    "from sklearn.model_selection import train_test_split\n",
    "X = tokenized_data\n",
    "y = labels\n",
    "X_train,X_test,y_train,y_test = train_test_split(X, y, test_size = 0.2, random_state = 0)\n"
   ]
  },
  {
   "cell_type": "code",
   "execution_count": 20,
   "metadata": {},
   "outputs": [
    {
     "data": {
      "text/plain": [
       "((1434, 4), (359, 4), (1434, 2), (359, 2))"
      ]
     },
     "execution_count": 20,
     "metadata": {},
     "output_type": "execute_result"
    }
   ],
   "source": [
    "# convert the data from list to numpy arrays \n",
    "X_train = np.array(X_train)\n",
    "X_test = np.array(X_test)\n",
    "y_train = np.array(y_train)\n",
    "y_test = np.array(y_test)\n",
    "\n",
    "# check the shape of the X,y train and X,y test\n",
    "X_train.shape, X_test.shape, y_train.shape, y_test.shape"
   ]
  },
  {
   "cell_type": "code",
   "execution_count": 21,
   "metadata": {
    "colab": {
     "base_uri": "https://localhost:8080/",
     "height": 128
    },
    "colab_type": "code",
    "id": "lDth1BSzII4u",
    "outputId": "4614049a-7151-4407-9bc8-54604bbe7fdd"
   },
   "outputs": [
    {
     "name": "stdout",
     "output_type": "stream",
     "text": [
      "Model: \"sequential_1\"\n",
      "_________________________________________________________________\n",
      " Layer (type)                Output Shape              Param #   \n",
      "=================================================================\n",
      " embedding_1 (Embedding)     (None, 4, 100)            256000    \n",
      "                                                                 \n",
      " flatten_1 (Flatten)         (None, 400)               0         \n",
      "                                                                 \n",
      " dense_1 (Dense)             (None, 2)                 802       \n",
      "                                                                 \n",
      "=================================================================\n",
      "Total params: 256,802\n",
      "Trainable params: 256,802\n",
      "Non-trainable params: 0\n",
      "_________________________________________________________________\n"
     ]
    }
   ],
   "source": [
    "from sklearn.metrics import confusion_matrix, precision_score, recall_score, f1_score\n",
    "from keras.layers.normalization.batch_normalization_v1 import BatchNormalization\n",
    "from keras.models import Sequential\n",
    "from keras import layers\n",
    "embedding_dim = 100\n",
    "maxlen = 4\n",
    "# Fill in the following function so it\n",
    "model = Sequential()\n",
    "model.add(layers.Embedding(input_dim = vocab_size, output_dim = embedding_dim, input_length = maxlen))\n",
    "model.add(layers.Flatten())\n",
    "model.add(layers.Dense(2, activation = 'softmax'))\n",
    "\n",
    "model.compile(optimizer='rmsprop',loss='categorical_crossentropy', metrics =['accuracy'])\n",
    "model.summary()\n",
    "# - makes a prediction for the test set given the model\n",
    "# - reports the precision, recall and f1 score. Also print the confusion matrix. \n",
    "from sklearn.metrics import confusion_matrix, ConfusionMatrixDisplay\n",
    "from sklearn.metrics import classification_report\n",
    "# You will need to use the helper to_class function to convert y_pred and y_test before supplying them to the sklearn functions.\n",
    "\n",
    "def assess_model(model, X_test, y_test):\n",
    "    y_pred = model.predict(X_test)\n",
    "    y_pred = to_class(y_pred)\n",
    "    y_test = to_class(y_test)\n",
    "    \n",
    "    print(classification_report(y_test, y_pred))\n",
    "    print('--Confusion Matrix--')\n",
    "    print(confusion_matrix(y_test, y_pred))\n",
    "    \n",
    "def eval(model, X_train, y_train):\n",
    "    loss, acc = model.evaluate(X_train, y_train, verbose = 0)\n",
    "    print('Train Accuracy :%f' %(acc*100))\n",
    "    "
   ]
  },
  {
   "cell_type": "markdown",
   "metadata": {
    "colab_type": "text",
    "id": "nTqLbbE6MpGt"
   },
   "source": [
    "# Build and tune model"
   ]
  },
  {
   "cell_type": "markdown",
   "metadata": {
    "colab_type": "text",
    "id": "3X70rA4uMXNv"
   },
   "source": [
    "Define network architecture"
   ]
  },
  {
   "cell_type": "code",
   "execution_count": 22,
   "metadata": {
    "colab": {},
    "colab_type": "code",
    "id": "wKoXWKG4II5F"
   },
   "outputs": [
    {
     "name": "stdout",
     "output_type": "stream",
     "text": [
      "Model: \"sequential_2\"\n",
      "_________________________________________________________________\n",
      " Layer (type)                Output Shape              Param #   \n",
      "=================================================================\n",
      " embedding_2 (Embedding)     (None, 4, 100)            256000    \n",
      "                                                                 \n",
      " simple_rnn (SimpleRNN)      (None, 4, 10)             1110      \n",
      "                                                                 \n",
      " dropout (Dropout)           (None, 4, 10)             0         \n",
      "                                                                 \n",
      " simple_rnn_1 (SimpleRNN)    (None, 4, 10)             210       \n",
      "                                                                 \n",
      " lstm (LSTM)                 (None, 15)                1560      \n",
      "                                                                 \n",
      " dense_2 (Dense)             (None, 2)                 32        \n",
      "                                                                 \n",
      "=================================================================\n",
      "Total params: 258,912\n",
      "Trainable params: 258,912\n",
      "Non-trainable params: 0\n",
      "_________________________________________________________________\n"
     ]
    }
   ],
   "source": [
    "from keras.layers.normalization.batch_normalization_v1 import BatchNormalization\n",
    "from keras.models import Sequential\n",
    "from keras import layers\n",
    "from keras.layers import Dropout, LSTM\n",
    "embedding_dim = 100\n",
    "maxlen = 4\n",
    "time_stamp = 10\n",
    "model_1 = Sequential()\n",
    "#Embbeding layers\n",
    "model_1.add(layers.Embedding(input_dim=vocab_size,input_length = maxlen, output_dim = embedding_dim))\n",
    "model_1.add(layers.SimpleRNN(10,activation = 'sigmoid', return_sequences = True))\n",
    "model_1.add(Dropout(0.2))\n",
    "model_1.add(layers.SimpleRNN(10,activation = 'sigmoid', return_sequences = True))\n",
    "model_1.add(layers.LSTM(15,dropout=0.5))\n",
    "model_1.add(layers.Dense(2, activation = 'sigmoid'))\n",
    "model_1.compile(optimizer = 'rmsprop', loss = 'categorical_crossentropy', metrics = ['accuracy'])\n",
    "model_1.summary()"
   ]
  },
  {
   "cell_type": "markdown",
   "metadata": {
    "colab_type": "text",
    "id": "llS0-VKBMbz-"
   },
   "source": [
    "Train model"
   ]
  },
  {
   "cell_type": "code",
   "execution_count": 231,
   "metadata": {
    "colab": {},
    "colab_type": "code",
    "id": "F5IJs0QuMe_I"
   },
   "outputs": [
    {
     "name": "stdout",
     "output_type": "stream",
     "text": [
      "Epoch 1/10\n",
      "115/115 [==============================] - 9s 21ms/step - loss: 0.6924 - accuracy: 0.5283 - val_loss: 0.6943 - val_accuracy: 0.5017\n",
      "Epoch 2/10\n",
      "115/115 [==============================] - 1s 12ms/step - loss: 0.6950 - accuracy: 0.5126 - val_loss: 0.6932 - val_accuracy: 0.5017\n",
      "Epoch 3/10\n",
      "115/115 [==============================] - 1s 10ms/step - loss: 0.6932 - accuracy: 0.5074 - val_loss: 0.6951 - val_accuracy: 0.5017\n",
      "Epoch 4/10\n",
      "115/115 [==============================] - 1s 10ms/step - loss: 0.6923 - accuracy: 0.5170 - val_loss: 0.6940 - val_accuracy: 0.5017\n",
      "Epoch 5/10\n",
      "115/115 [==============================] - 2s 14ms/step - loss: 0.6912 - accuracy: 0.5161 - val_loss: 0.6909 - val_accuracy: 0.5401\n",
      "Epoch 6/10\n",
      "115/115 [==============================] - 1s 10ms/step - loss: 0.6899 - accuracy: 0.5344 - val_loss: 0.6893 - val_accuracy: 0.5679\n",
      "Epoch 7/10\n",
      "115/115 [==============================] - 1s 10ms/step - loss: 0.6872 - accuracy: 0.5466 - val_loss: 0.6920 - val_accuracy: 0.5017\n",
      "Epoch 8/10\n",
      "115/115 [==============================] - 1s 11ms/step - loss: 0.6896 - accuracy: 0.5275 - val_loss: 0.6863 - val_accuracy: 0.5540\n",
      "Epoch 9/10\n",
      "115/115 [==============================] - 1s 10ms/step - loss: 0.6853 - accuracy: 0.5545 - val_loss: 0.6872 - val_accuracy: 0.5366\n",
      "Epoch 10/10\n",
      "115/115 [==============================] - 1s 10ms/step - loss: 0.6815 - accuracy: 0.5719 - val_loss: 0.6845 - val_accuracy: 0.5575\n",
      "45/45 [==============================] - 1s 4ms/step\n",
      "12/12 [==============================] - 0s 4ms/step\n"
     ]
    }
   ],
   "source": [
    "# train the model and store, each run on a vaariable called history which we will use to plot the loss and accuracy\n",
    "history = model_1.fit(X_train, y_train, batch_size = 10, epochs = 10, validation_split=(0.2))\n",
    "trainPredict = model_1.predict(X_train)\n",
    "testPredict = model_1.predict(X_test)"
   ]
  },
  {
   "cell_type": "markdown",
   "metadata": {
    "colab_type": "text",
    "id": "rniBBEiyMRKD"
   },
   "source": [
    "Examine performance of model"
   ]
  },
  {
   "cell_type": "code",
   "execution_count": 24,
   "metadata": {
    "colab": {},
    "colab_type": "code",
    "id": "eBVogHg2II5T",
    "tags": []
   },
   "outputs": [
    {
     "name": "stdout",
     "output_type": "stream",
     "text": [
      "---Assessment of the first model---\n",
      "12/12 [==============================] - 0s 2ms/step\n",
      "              precision    recall  f1-score   support\n",
      "\n",
      "           0       0.50      0.13      0.21       178\n",
      "           1       0.50      0.87      0.64       181\n",
      "\n",
      "    accuracy                           0.50       359\n",
      "   macro avg       0.50      0.50      0.43       359\n",
      "weighted avg       0.50      0.50      0.43       359\n",
      "\n",
      "--Confusion Matrix--\n",
      "[[ 24 154]\n",
      " [ 24 157]]\n",
      "None\n",
      "Train Accuracy :51.464432\n",
      "None\n",
      "\n",
      "---Assessment of the second model---\n",
      "12/12 [==============================] - 0s 3ms/step\n",
      "              precision    recall  f1-score   support\n",
      "\n",
      "           0       0.00      0.00      0.00       178\n",
      "           1       0.50      1.00      0.67       181\n",
      "\n",
      "    accuracy                           0.50       359\n",
      "   macro avg       0.25      0.50      0.34       359\n",
      "weighted avg       0.25      0.50      0.34       359\n",
      "\n",
      "--Confusion Matrix--\n",
      "[[  0 178]\n",
      " [  0 181]]\n",
      "None\n"
     ]
    },
    {
     "name": "stderr",
     "output_type": "stream",
     "text": [
      "/Library/Frameworks/Python.framework/Versions/3.10/lib/python3.10/site-packages/sklearn/metrics/_classification.py:1334: UndefinedMetricWarning: Precision and F-score are ill-defined and being set to 0.0 in labels with no predicted samples. Use `zero_division` parameter to control this behavior.\n",
      "  _warn_prf(average, modifier, msg_start, len(result))\n",
      "/Library/Frameworks/Python.framework/Versions/3.10/lib/python3.10/site-packages/sklearn/metrics/_classification.py:1334: UndefinedMetricWarning: Precision and F-score are ill-defined and being set to 0.0 in labels with no predicted samples. Use `zero_division` parameter to control this behavior.\n",
      "  _warn_prf(average, modifier, msg_start, len(result))\n",
      "/Library/Frameworks/Python.framework/Versions/3.10/lib/python3.10/site-packages/sklearn/metrics/_classification.py:1334: UndefinedMetricWarning: Precision and F-score are ill-defined and being set to 0.0 in labels with no predicted samples. Use `zero_division` parameter to control this behavior.\n",
      "  _warn_prf(average, modifier, msg_start, len(result))\n"
     ]
    },
    {
     "name": "stdout",
     "output_type": "stream",
     "text": [
      "Train Accuracy :51.603907\n",
      "None\n"
     ]
    }
   ],
   "source": [
    "# assess the performance of the function\n",
    "print('---Assessment of the first model---')\n",
    "print(assess_model(model, X_test,y_test))\n",
    "print(eval(model, X_train, y_train))\n",
    "print()\n",
    "print('---Assessment of the second model---')\n",
    "print(assess_model(model_1, X_test,y_test))\n",
    "print(eval(model_1, X_train, y_train))\n",
    "\n",
    "# the reports below shows that the model perform similarly in the this data set\n",
    "# they both have an accuracy of around 50%."
   ]
  },
  {
   "cell_type": "markdown",
   "metadata": {
    "colab_type": "text",
    "id": "HB8kzt-IME4U"
   },
   "source": [
    "Plot graphs for accuracy and loss"
   ]
  },
  {
   "cell_type": "code",
   "execution_count": 252,
   "metadata": {
    "colab": {},
    "colab_type": "code",
    "id": "hPyJ78unMJUI"
   },
   "outputs": [
    {
     "data": {
      "image/png": "[encoded data removed]",
      "text/plain": [
       "<Figure size 640x480 with 1 Axes>"
      ]
     },
     "metadata": {},
     "output_type": "display_data"
    }
   ],
   "source": [
    "# This function plots the loss and the accuracy of the models\n",
    "def plot(history):\n",
    "    acc = history.history['accuracy']\n",
    "    val_acc =history.history['val_accuracy']\n",
    "    loss = history.history['loss']\n",
    "    val_loss = history.history['val_loss']\n",
    "    \n",
    "    epoch = range(1, len(acc) + 1)\n",
    "    ## accuracy plot\n",
    "    plt.plot(epoch, acc, 'red', label = 'Training_acc')\n",
    "    plt.plot(epoch, val_acc, 'b', label = 'Validation_acc')\n",
    "    plt.title('Training and Validation accuracy')\n",
    "    plt.legend()\n",
    "    plt.figure\n",
    "    \n",
    "    plt.plot(epoch, loss, 'red', label = 'Training loss')\n",
    "    plt.plot(epoch, val_loss, label = '`validation loss')\n",
    "    plt.title('Training and Validation loss')\n",
    "    plt.legend()\n",
    "    \n",
    "plot(history)"
   ]
  },
  {
   "cell_type": "markdown",
   "metadata": {
    "colab_type": "text",
    "id": "eAZ1LyFBMLoK"
   },
   "source": [
    "# Make a prediction"
   ]
  },
  {
   "cell_type": "code",
   "execution_count": 245,
   "metadata": {
    "colab": {},
    "colab_type": "code",
    "id": "vfPM5LokII5V",
    "tags": []
   },
   "outputs": [
    {
     "name": "stdout",
     "output_type": "stream",
     "text": [
      "Prediction of the first model\n",
      "1/1 [==============================] - 0s 28ms/step\n",
      "Prediction of the second model\n",
      "1/1 [==============================] - 0s 30ms/step\n"
     ]
    },
    {
     "data": {
      "text/plain": [
       "'Negative'"
      ]
     },
     "execution_count": 245,
     "metadata": {},
     "output_type": "execute_result"
    }
   ],
   "source": [
    "from keras_preprocessing.sequence import pad_sequences\n",
    "# This is a very small set of completed new data to use to make predictions.\n",
    "prediction_data = [\"this book is fabulous\",\"i hated this book\", \"the best\", \"no good\", \"okay\"]\n",
    "tokenized = tokenizer.texts_to_sequences(prediction_data)\n",
    "padded = pad_sequences(tokenized, padding='post', maxlen=maxlen)\n",
    "\n",
    "# Supply this data to each of your models and see how it does. \n",
    "# You can call the helper function \"to_word_label\" to map the output of the model to the name of the\n",
    "# class it was predicted to belong to.\n",
    "print('Prediction of the first model')\n",
    "sentiment = ['Negative', 'Positive']\n",
    "sequence =  tokenizer.texts_to_sequences(prediction_data)\n",
    "test = pad_sequences(tokenized, padding='post', maxlen=maxlen)\n",
    "sentiment[np.around(model.predict(test), decimals = 0).argmax(axis =1)[1]]\n",
    "\n",
    "print('Prediction of the second model')\n",
    "sentiment = ['Negative', 'Positive']\n",
    "sequence =  tokenizer.texts_to_sequences(prediction_data)\n",
    "test = pad_sequences(tokenized, padding='post', maxlen=maxlen)\n",
    "sentiment[np.around(model_1.predict(test), decimals = 0).argmax(axis =1)[1]]\n"
   ]
  },
  {
   "cell_type": "code",
   "execution_count": null,
   "metadata": {},
   "outputs": [],
   "source": []
  }
 ],
 "metadata": {
  "colab": {
   "collapsed_sections": [],
   "name": "L3T20.ipynb",
   "provenance": []
  },
  "kernelspec": {
   "display_name": "Python 3 (ipykernel)",
   "language": "python",
   "name": "python3"
  },
  "language_info": {
   "codemirror_mode": {
    "name": "ipython",
    "version": 3
   },
   "file_extension": ".py",
   "mimetype": "text/x-python",
   "name": "python",
   "nbconvert_exporter": "python",
   "pygments_lexer": "ipython3",
   "version": "3.10.5"
  }
 },
 "nbformat": 4,
 "nbformat_minor": 1
}
